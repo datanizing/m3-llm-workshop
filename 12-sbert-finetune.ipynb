{
 "cells": [
  {
   "cell_type": "code",
   "execution_count": null,
   "id": "78ecafde-5b78-4dd0-8874-80dcff4bf86b",
   "metadata": {},
   "outputs": [],
   "source": [
    "from datasets import load_dataset"
   ]
  },
  {
   "cell_type": "code",
   "execution_count": null,
   "id": "daf4977f-a019-45ac-8be5-9b877a4e964e",
   "metadata": {},
   "outputs": [],
   "source": [
    "train_dataset = load_dataset(\"sentence-transformers/all-nli\", \"pair-score\", split=\"train\")"
   ]
  },
  {
   "cell_type": "code",
   "execution_count": null,
   "id": "11cd31ff-4470-470a-a0d5-64eae9042b1d",
   "metadata": {},
   "outputs": [],
   "source": [
    "train_dataset"
   ]
  },
  {
   "cell_type": "code",
   "execution_count": null,
   "id": "fdcf0de9-495b-46c8-8dff-34823de61eee",
   "metadata": {},
   "outputs": [],
   "source": [
    "train_dataset[0]"
   ]
  },
  {
   "cell_type": "code",
   "execution_count": null,
   "id": "e9deda62-f100-46f6-a59d-0011b9dc2d62",
   "metadata": {},
   "outputs": [],
   "source": [
    "import pandas as pd\n",
    "pd.set_option('display.max_colwidth', None)\n",
    "df = pd.DataFrame(train_dataset)\n",
    "df.head()"
   ]
  },
  {
   "cell_type": "code",
   "execution_count": null,
   "id": "2cfebf1d-e901-41a8-a363-b24129bab694",
   "metadata": {},
   "outputs": [],
   "source": [
    "df[\"score\"].unique()"
   ]
  },
  {
   "cell_type": "code",
   "execution_count": null,
   "id": "9280ceba-30d0-4956-8924-600a939e7a27",
   "metadata": {},
   "outputs": [],
   "source": [
    "df.sample(20, random_state=42)"
   ]
  },
  {
   "cell_type": "code",
   "execution_count": null,
   "id": "5b1e967e-786a-4e98-a1e0-ab7b1c45539c",
   "metadata": {},
   "outputs": [],
   "source": [
    "from sentence_transformers import SentenceTransformer"
   ]
  },
  {
   "cell_type": "code",
   "execution_count": null,
   "id": "44f2961a-ff86-4d63-a5ef-d2671515cb0c",
   "metadata": {},
   "outputs": [],
   "source": [
    "model_name = \"answerdotai/ModernBERT-base\"\n",
    "model = SentenceTransformer(model_name, device=\"cuda\")"
   ]
  },
  {
   "cell_type": "code",
   "execution_count": null,
   "id": "f8390f71-51bd-4ad3-b022-b7bba49d3f93",
   "metadata": {},
   "outputs": [],
   "source": [
    "model.to('cuda')"
   ]
  },
  {
   "cell_type": "code",
   "execution_count": null,
   "id": "b5c4a4a8-9cf9-4d29-8370-8b9fae53a074",
   "metadata": {},
   "outputs": [],
   "source": [
    "from sentence_transformers.losses import CoSENTLoss\n",
    "loss = CoSENTLoss(model)"
   ]
  },
  {
   "cell_type": "code",
   "execution_count": null,
   "id": "b392fdd0-b195-425c-8488-660a96d10621",
   "metadata": {},
   "outputs": [],
   "source": [
    "from sentence_transformers import SentenceTransformerTrainingArguments\n",
    "from sentence_transformers.training_args import BatchSamplers\n",
    "args = SentenceTransformerTrainingArguments(\n",
    "    # Required parameter:\n",
    "    output_dir=\"models/ModernSBERT\",\n",
    "    # Optional training parameters:\n",
    "    num_train_epochs=1,\n",
    "    per_device_train_batch_size=16,\n",
    "    per_device_eval_batch_size=16,\n",
    "    learning_rate=2e-5,\n",
    "    warmup_ratio=0.1,\n",
    "    fp16=False,\n",
    "    bf16=True,\n",
    "    batch_sampler=BatchSamplers.NO_DUPLICATES,  # losses that use \"in-batch negatives\" benefit from no duplicates\n",
    ")"
   ]
  },
  {
   "cell_type": "code",
   "execution_count": null,
   "id": "0fdc50ed-a4eb-4eff-b56b-7262ce7b46b0",
   "metadata": {},
   "outputs": [],
   "source": [
    "from sentence_transformers.evaluation import EmbeddingSimilarityEvaluator, SimilarityFunction\n",
    "\n",
    "# Load the STSB dataset (https://huggingface.co/datasets/sentence-transformers/stsb)\n",
    "eval_dataset = load_dataset(\"sentence-transformers/all-nli\", \"pair-score\", split=\"dev\")\n",
    "\n",
    "# Initialize the evaluator\n",
    "dev_evaluator = EmbeddingSimilarityEvaluator(\n",
    "    sentences1=eval_dataset[\"sentence1\"],\n",
    "    sentences2=eval_dataset[\"sentence2\"],\n",
    "    scores=eval_dataset[\"score\"],\n",
    "    main_similarity=SimilarityFunction.COSINE,\n",
    "    name=\"all-nli-dev\",\n",
    ")"
   ]
  },
  {
   "cell_type": "code",
   "execution_count": null,
   "id": "12021753-8a05-4d32-b968-341139e34987",
   "metadata": {},
   "outputs": [],
   "source": [
    "test_dataset = load_dataset(\"sentence-transformers/all-nli\", \"pair-score\", split=\"test\")"
   ]
  },
  {
   "cell_type": "code",
   "execution_count": null,
   "id": "52f29ea6-872a-44b8-afbf-e6678079eea1",
   "metadata": {},
   "outputs": [],
   "source": [
    "test_evaluator = EmbeddingSimilarityEvaluator(\n",
    "    sentences1=test_dataset[\"sentence1\"],\n",
    "    sentences2=test_dataset[\"sentence2\"],\n",
    "    scores=test_dataset[\"score\"],\n",
    "    main_similarity=SimilarityFunction.COSINE,\n",
    ")"
   ]
  },
  {
   "cell_type": "code",
   "execution_count": null,
   "id": "c646738f-5e9d-4166-81a2-065313527fa3",
   "metadata": {},
   "outputs": [],
   "source": [
    "test_evaluator(model)"
   ]
  },
  {
   "cell_type": "code",
   "execution_count": null,
   "id": "ddcb9bce-ef76-4320-9e39-0fff3564e363",
   "metadata": {},
   "outputs": [],
   "source": [
    "from sentence_transformers import SentenceTransformerTrainer\n",
    "trainer = SentenceTransformerTrainer(\n",
    "    model=model,\n",
    "    args=args,\n",
    "    train_dataset=train_dataset,\n",
    "    eval_dataset=eval_dataset,\n",
    "    loss=loss,\n",
    "    evaluator=dev_evaluator,\n",
    ")\n",
    "trainer.train()"
   ]
  },
  {
   "cell_type": "code",
   "execution_count": null,
   "id": "9c11f2da-e4bf-438b-94ec-3ca2f4715a7d",
   "metadata": {},
   "outputs": [],
   "source": [
    "model.save_pretrained(\"ModernSBERT-base-all-nli/final\")"
   ]
  },
  {
   "cell_type": "code",
   "execution_count": null,
   "id": "668730e4-7ce5-497e-ba3d-bfb7fb3984b1",
   "metadata": {},
   "outputs": [],
   "source": [
    "model = SentenceTransformer(\"./ModernSBERT-base-all-nli/final\")"
   ]
  },
  {
   "cell_type": "code",
   "execution_count": null,
   "id": "23fdcdae-e21c-425f-8b4d-5324e912de8c",
   "metadata": {},
   "outputs": [],
   "source": [
    "test_evaluator(model)"
   ]
  },
  {
   "cell_type": "code",
   "execution_count": null,
   "id": "1516f075-876f-4d3a-9dd6-bbc942d37de6",
   "metadata": {},
   "outputs": [],
   "source": []
  }
 ],
 "metadata": {
  "kernelspec": {
   "display_name": "Python 3 (ipykernel)",
   "language": "python",
   "name": "python3"
  },
  "language_info": {
   "codemirror_mode": {
    "name": "ipython",
    "version": 3
   },
   "file_extension": ".py",
   "mimetype": "text/x-python",
   "name": "python",
   "nbconvert_exporter": "python",
   "pygments_lexer": "ipython3",
   "version": "3.12.3"
  }
 },
 "nbformat": 4,
 "nbformat_minor": 5
}
