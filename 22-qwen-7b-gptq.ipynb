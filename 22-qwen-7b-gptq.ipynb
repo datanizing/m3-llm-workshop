{
 "cells": [
  {
   "cell_type": "markdown",
   "id": "7194eb93",
   "metadata": {},
   "source": [
    "needs `optimum`, `GPTQModel`, `tokenicer`, `device_smi`"
   ]
  },
  {
   "cell_type": "code",
   "execution_count": null,
   "id": "8e95088d",
   "metadata": {},
   "outputs": [],
   "source": [
    "import torch\n",
    "torch.cuda.get_device_properties(0) "
   ]
  },
  {
   "cell_type": "code",
   "execution_count": null,
   "id": "61549fcf-57b4-483d-80c6-9e5556874a86",
   "metadata": {},
   "outputs": [],
   "source": [
    "from gptqmodel import GPTQModel\n",
    "\n",
    "model_name = \"Qwen/Qwen2.5-7B-Instruct-GPTQ-Int4\"\n",
    "model = GPTQModel.load(model_name)\n"
   ]
  },
  {
   "cell_type": "code",
   "execution_count": null,
   "id": "40b34592-e4f5-412a-9ced-8e9bb557c368",
   "metadata": {},
   "outputs": [],
   "source": [
    "import time\n",
    "\n",
    "start = time.time()\n",
    "result = model.generate(\"Erkläre den Heise Zeitschrifenverlag\", max_new_tokens=512)\n",
    "used = time.time() - start"
   ]
  },
  {
   "cell_type": "code",
   "execution_count": null,
   "id": "6a51159f-1265-4444-aeb0-f136f34e3d04",
   "metadata": {},
   "outputs": [],
   "source": [
    "result"
   ]
  },
  {
   "cell_type": "code",
   "execution_count": null,
   "id": "2f8f7bc1-8f4b-4388-997d-710cd54f7730",
   "metadata": {},
   "outputs": [],
   "source": [
    "print(model.tokenizer.decode(result[0])) "
   ]
  },
  {
   "cell_type": "code",
   "execution_count": null,
   "id": "639bbfb3-ac71-46ac-8083-695d08c8ed5e",
   "metadata": {},
   "outputs": [],
   "source": [
    "used"
   ]
  },
  {
   "cell_type": "code",
   "execution_count": null,
   "id": "0bc12bc4-b904-40cc-8434-422e07c96ad7",
   "metadata": {},
   "outputs": [],
   "source": [
    "len(result[0])/used"
   ]
  },
  {
   "cell_type": "code",
   "execution_count": null,
   "id": "f943e8cc",
   "metadata": {},
   "outputs": [],
   "source": [
    "!nvidia-smi"
   ]
  },
  {
   "cell_type": "code",
   "execution_count": null,
   "id": "9e08a1f3",
   "metadata": {},
   "outputs": [],
   "source": [
    "import time\n",
    "\n",
    "start = time.time()\n",
    "result = model.generate('<|im_start|>system\\nDu bist ein hilfreicher Assistent.<|im_end|>\\n<|im_start|>user\\nErkläre den Heise Zeitschriftenverlag<|im_end|>\\n<|im_start|>assistant\\n', max_new_tokens=512)\n",
    "used = time.time() - start\n"
   ]
  },
  {
   "cell_type": "code",
   "execution_count": null,
   "id": "46b9ec2e-e042-4f9a-8c97-1129edc13c90",
   "metadata": {},
   "outputs": [],
   "source": [
    "print(model.tokenizer.decode(result[0])) "
   ]
  },
  {
   "cell_type": "code",
   "execution_count": null,
   "id": "b67857d6-500b-486e-84db-6cbb8bd5e60d",
   "metadata": {},
   "outputs": [],
   "source": [
    "used"
   ]
  },
  {
   "cell_type": "code",
   "execution_count": null,
   "id": "808ab2ab-28ee-4874-ab5a-24dded43537d",
   "metadata": {},
   "outputs": [],
   "source": [
    "result[0].shape[0]/used"
   ]
  },
  {
   "cell_type": "code",
   "execution_count": null,
   "id": "afa482fc-1453-4864-81f9-c41a2d9b404a",
   "metadata": {},
   "outputs": [],
   "source": []
  }
 ],
 "metadata": {
  "kernelspec": {
   "display_name": "Python 3 (ipykernel)",
   "language": "python",
   "name": "python3"
  },
  "language_info": {
   "codemirror_mode": {
    "name": "ipython",
    "version": 3
   },
   "file_extension": ".py",
   "mimetype": "text/x-python",
   "name": "python",
   "nbconvert_exporter": "python",
   "pygments_lexer": "ipython3",
   "version": "3.12.3"
  }
 },
 "nbformat": 4,
 "nbformat_minor": 5
}
