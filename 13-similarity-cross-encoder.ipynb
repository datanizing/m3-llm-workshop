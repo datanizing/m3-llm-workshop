{
 "cells": [
  {
   "cell_type": "markdown",
   "id": "0",
   "metadata": {},
   "source": [
    "# Load data (from previous notebook)"
   ]
  },
  {
   "cell_type": "code",
   "execution_count": null,
   "id": "252db22d-7629-4333-ae1b-cb48585fb4c3",
   "metadata": {},
   "outputs": [],
   "source": [
    "import os\n",
    "import urllib.request\n",
    "\n",
    "# File name and URL\n",
    "file_name = \"sentences.txt\"\n",
    "url = \"https://github.com/datanizing/m3-llm-workshop/raw/main/sentences.txt\"\n",
    "\n",
    "# Check if the file exists, if not, download it\n",
    "if not os.path.isfile(file_name):\n",
    "    print(f\"{file_name} does not exist. Downloading...\")\n",
    "    urllib.request.urlretrieve(url, file_name)\n",
    "    print(f\"Downloaded {file_name}.\")\n",
    "else:\n",
    "    print(f\"{file_name} already exists.\")"
   ]
  },
  {
   "cell_type": "code",
   "execution_count": null,
   "id": "1",
   "metadata": {},
   "outputs": [],
   "source": [
    "sentences = open(\"sentences.txt\", encoding=\"utf-8\").read().split(\"@@@\")"
   ]
  },
  {
   "cell_type": "code",
   "execution_count": null,
   "id": "2",
   "metadata": {},
   "outputs": [],
   "source": [
    "len(sentences)"
   ]
  },
  {
   "cell_type": "code",
   "execution_count": null,
   "id": "3",
   "metadata": {},
   "outputs": [],
   "source": [
    "import numpy as np\n",
    "with open(\"sentences-saev2.npy\", \"rb\") as f:\n",
    "    sembeddings = np.load(f)"
   ]
  },
  {
   "cell_type": "code",
   "execution_count": null,
   "id": "4",
   "metadata": {},
   "outputs": [],
   "source": [
    "with open(\"sentences-mpnet.npy\", \"rb\") as f:\n",
    "    sembeddings2 = np.load(f)"
   ]
  },
  {
   "cell_type": "markdown",
   "id": "5",
   "metadata": {},
   "source": [
    "# Retrieval"
   ]
  },
  {
   "cell_type": "code",
   "execution_count": null,
   "id": "6",
   "metadata": {},
   "outputs": [],
   "source": [
    "import numpy as np\n",
    "import pandas as pd\n",
    "def search(query, text, corpus_embeddings, bi_encoder, cross_encoder, prompt_name=\"query\", top_k=100):\n",
    "    # code query to restrict search space\n",
    "    query_embedding = bi_encoder.encode(query, prompt_name=prompt_name)\n",
    "    \n",
    "    # Determine similarity (vectors are normalized)\n",
    "    sim = model.similarity(query_embedding, corpus_embeddings)[0].numpy() \n",
    "    \n",
    "    # Get most similar top_k by sorting\n",
    "    hits = [ { \"text\": text[i], \"score\": sim[i] } \n",
    "                     for i in sim.argsort()[::-1][0:top_k] ]\n",
    "\n",
    "    # Consider only top hits for re-rankin\n",
    "    cross_input = [[query, hit[\"text\"]] for hit in hits]\n",
    "    # cross-encode (this takes most time)\n",
    "    cross_scores = cross_encoder.predict(cross_input)\n",
    "\n",
    "    # Integrate cross-scores in original hits (this would be easier with pandas)\n",
    "    for i in range(len(cross_scores)):\n",
    "        hits[i][\"cross-score\"] = cross_scores[i]\n",
    "\n",
    "    # nre-sort by cross-score, descending!\n",
    "    hits = sorted(hits, key=lambda x: x[\"cross-score\"], reverse=True)\n",
    "    \n",
    "    # Return top-20 results of re-ranker as dataframe\n",
    "    return pd.DataFrame(hits[0:20])"
   ]
  },
  {
   "cell_type": "code",
   "execution_count": null,
   "id": "7",
   "metadata": {},
   "outputs": [],
   "source": [
    "# bi-encoder is needed\n",
    "from sentence_transformers import SentenceTransformer\n",
    "model = SentenceTransformer(\"Snowflake/snowflake-arctic-embed-l-v2.0\")"
   ]
  },
  {
   "cell_type": "code",
   "execution_count": null,
   "id": "8",
   "metadata": {},
   "outputs": [],
   "source": [
    "model2 = SentenceTransformer('all-mpnet-base-v2')"
   ]
  },
  {
   "cell_type": "code",
   "execution_count": null,
   "id": "9",
   "metadata": {},
   "outputs": [],
   "source": [
    "# cross encoder\n",
    "from sentence_transformers import CrossEncoder\n",
    "cross_encoder = CrossEncoder('cross-encoder/ms-marco-MiniLM-L-6-v2')"
   ]
  },
  {
   "cell_type": "code",
   "execution_count": null,
   "id": "10",
   "metadata": {},
   "outputs": [],
   "source": [
    "pd.set_option('display.max_colwidth', 0)"
   ]
  },
  {
   "cell_type": "code",
   "execution_count": null,
   "id": "11",
   "metadata": {},
   "outputs": [],
   "source": [
    "search(\"Is the climate crisis worse for poorer countries?\", \n",
    "       sentences, sembeddings, model, cross_encoder, prompt_name=\"query\").style.background_gradient(cmap='coolwarm')"
   ]
  },
  {
   "cell_type": "code",
   "execution_count": null,
   "id": "12",
   "metadata": {},
   "outputs": [],
   "source": [
    "search(\"Is the climate crisis worse for poorer countries?\", \n",
    "       sentences, sembeddings2, model2, cross_encoder, prompt_name=None).style.background_gradient(cmap='coolwarm')"
   ]
  },
  {
   "cell_type": "code",
   "execution_count": null,
   "id": "13",
   "metadata": {},
   "outputs": [],
   "source": [
    "search(\"Which countries are impacted most by the climate crisis?\", \n",
    "       sentences, sembeddings, model, cross_encoder).style.background_gradient(cmap='coolwarm')"
   ]
  },
  {
   "cell_type": "code",
   "execution_count": null,
   "id": "489dafe9-9936-4a84-bbc0-8107c7a34611",
   "metadata": {},
   "outputs": [],
   "source": [
    "search(\"Which countries are impacted most by the climate crisis?\", \n",
    "       sentences, sembeddings2, model2, cross_encoder, prompt_name=None).style.background_gradient(cmap='coolwarm')"
   ]
  },
  {
   "cell_type": "code",
   "execution_count": null,
   "id": "b664891b-5418-4f28-9de5-3e54aea9c3b6",
   "metadata": {},
   "outputs": [],
   "source": [
    "# eine von vielen weiteren Alternativen:\n",
    "cross_encoder = CrossEncoder(\"jinaai/jina-reranker-v2-base-multilingual\",\n",
    "    model_kwargs={\"torch_dtype\": \"auto\"},\n",
    "    trust_remote_code=True)"
   ]
  },
  {
   "cell_type": "code",
   "execution_count": null,
   "id": "5d6b1786-0dc9-438c-8dce-e5d43a6e1be6",
   "metadata": {},
   "outputs": [],
   "source": [
    "search(\"Sind arme Länder durch die Klimakrise stärker betroffen?\", \n",
    "       sentences, sembeddings, model, cross_encoder).style.background_gradient(cmap='coolwarm')"
   ]
  },
  {
   "cell_type": "code",
   "execution_count": null,
   "id": "ade15910-6a3a-407a-9a64-14a2ae5d1829",
   "metadata": {},
   "outputs": [],
   "source": [
    "search(\"Welche Länder sind durch die Klimakrise am meisten betroffen?\", \n",
    "       sentences, sembeddings, model, cross_encoder).style.background_gradient(cmap='coolwarm')"
   ]
  },
  {
   "cell_type": "code",
   "execution_count": null,
   "id": "47d3c968-a220-4252-af60-e3adfcc9f9b2",
   "metadata": {},
   "outputs": [],
   "source": []
  }
 ],
 "metadata": {
  "kernelspec": {
   "display_name": "finetuning",
   "language": "python",
   "name": "finetuning"
  },
  "language_info": {
   "codemirror_mode": {
    "name": "ipython",
    "version": 3
   },
   "file_extension": ".py",
   "mimetype": "text/x-python",
   "name": "python",
   "nbconvert_exporter": "python",
   "pygments_lexer": "ipython3",
   "version": "3.13.1"
  }
 },
 "nbformat": 4,
 "nbformat_minor": 5
}
