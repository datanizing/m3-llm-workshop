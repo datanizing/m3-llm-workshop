{
 "cells": [
  {
   "cell_type": "code",
   "execution_count": null,
   "id": "f92465c5-4c6a-4e7d-abe3-f37aebdf5d2f",
   "metadata": {},
   "outputs": [],
   "source": [
    "import torch\n",
    "torch.cuda.get_device_properties(0) "
   ]
  },
  {
   "cell_type": "code",
   "execution_count": null,
   "id": "6b4a2b95-81fc-4339-8934-8bfda99c2f78",
   "metadata": {},
   "outputs": [],
   "source": [
    "from transformers import AutoModelForCausalLM, AutoTokenizer\n",
    "\n",
    "model_name = \"Qwen/Qwen3-8B\"\n",
    "\n",
    "model = AutoModelForCausalLM.from_pretrained(model_name, \n",
    "                                             dtype=torch.bfloat16)\n",
    "tokenizer = AutoTokenizer.from_pretrained(model_name)"
   ]
  },
  {
   "cell_type": "code",
   "execution_count": null,
   "id": "703a2bb5-dcb8-4559-bb36-5e3cc8f48a46",
   "metadata": {},
   "outputs": [],
   "source": [
    "model.cuda()"
   ]
  },
  {
   "cell_type": "code",
   "execution_count": null,
   "id": "e627be79-3160-4e44-9cff-ec904582e300",
   "metadata": {},
   "outputs": [],
   "source": [
    "!nvidia-smi"
   ]
  },
  {
   "cell_type": "code",
   "execution_count": null,
   "id": "81ac7d1d-490f-4d61-acb0-5068e2d694e3",
   "metadata": {},
   "outputs": [],
   "source": [
    "prompt = \"Erkläre den Heise Zeitschriftenverlag\"\n",
    "messages = [\n",
    "    {\"role\": \"system\", \"content\": \"Du bist ein hilfreicher Assistent.\"},\n",
    "    {\"role\": \"user\", \"content\": prompt}\n",
    "]\n",
    "text = tokenizer.apply_chat_template(\n",
    "    messages,\n",
    "    tokenize=False,\n",
    "    enable_thinking=False,\n",
    "    add_generation_prompt=True\n",
    ")\n",
    "text"
   ]
  },
  {
   "cell_type": "code",
   "execution_count": null,
   "id": "57006eee-9540-46e9-abf7-4fb97bb3f5cf",
   "metadata": {},
   "outputs": [],
   "source": [
    "import time\n",
    "\n",
    "start = time.time()\n",
    "print(\"\\n\\n*** Generate:\")\n",
    "\n",
    "tokens = tokenizer(text, return_tensors='pt')\n",
    "output = model.generate(inputs=tokens.input_ids.cuda(), attention_mask=tokens.attention_mask.cuda(),\n",
    "                        temperature=0.7, \n",
    "                        do_sample=True, top_p=0.95, top_k=40, \n",
    "                        max_new_tokens=512)\n",
    "used = time.time() - start\n",
    "tps = len(output[0]) / used\n",
    "print(tokenizer.decode(output[0]))\n",
    "print(f\"{used} seconds, {tps} tokens/s\")"
   ]
  },
  {
   "cell_type": "code",
   "execution_count": null,
   "id": "94cb3450",
   "metadata": {},
   "outputs": [],
   "source": [
    "start = time.time()\n",
    "print(\"\\n\\n*** Generate:\")\n",
    "\n",
    "output = model.generate(inputs=tokens.input_ids.cuda(), attention_mask=tokens.attention_mask.cuda(),\n",
    "                        temperature=0.7, \n",
    "                        do_sample=True, top_p=0.95, top_k=40, \n",
    "                        max_new_tokens=512)\n",
    "used = time.time() - start\n",
    "tps = len(output[0]) / used\n",
    "print(tokenizer.decode(output[0]))\n",
    "print(f\"{used} seconds, {tps} tokens/s\")"
   ]
  },
  {
   "cell_type": "code",
   "execution_count": null,
   "id": "008d4b37",
   "metadata": {},
   "outputs": [],
   "source": [
    "start = time.time()\n",
    "print(\"\\n\\n*** Generate:\")\n",
    "\n",
    "output = model.generate(inputs=tokens.input_ids.cuda(), attention_mask=tokens.attention_mask.cuda(),\n",
    "                        do_sample=False, max_new_tokens=512)\n",
    "used = time.time() - start\n",
    "tps = len(output[0]) / used\n",
    "print(tokenizer.decode(output[0]))\n",
    "print(f\"{used} seconds, {tps} tokens/s\")"
   ]
  },
  {
   "cell_type": "code",
   "execution_count": null,
   "id": "7dd4f394",
   "metadata": {},
   "outputs": [],
   "source": [
    "start = time.time()\n",
    "print(\"\\n\\n*** Generate:\")\n",
    "\n",
    "output = model.generate(inputs=tokens.input_ids.cuda(), attention_mask=tokens.attention_mask.cuda(),\n",
    "                        do_sample=False, max_new_tokens=512)\n",
    "used = time.time() - start\n",
    "tps = len(output[0]) / used\n",
    "print(tokenizer.decode(output[0]))\n",
    "print(f\"{used} seconds, {tps} tokens/s\")"
   ]
  },
  {
   "cell_type": "code",
   "execution_count": null,
   "id": "6877f2bd",
   "metadata": {},
   "outputs": [],
   "source": [
    "prompt = \"Explain the recent quantum computer advances from Microsoft with Majorana fermions!\"\n",
    "messages = [\n",
    "    {\"role\": \"system\", \"content\": \"You are a helpful assistant. Only answer if you are absolutely sure. Otherwise tell me that you don't know the answer\"},\n",
    "    {\"role\": \"user\", \"content\": prompt}\n",
    "]\n",
    "text = tokenizer.apply_chat_template(\n",
    "    messages,\n",
    "    tokenize=False,\n",
    "    add_generation_prompt=True\n",
    ")\n",
    "tokens = tokenizer(text, return_tensors='pt')"
   ]
  },
  {
   "cell_type": "code",
   "execution_count": null,
   "id": "464aa607-ac48-461d-9818-77a021e112af",
   "metadata": {},
   "outputs": [],
   "source": [
    "start = time.time()\n",
    "print(\"\\n\\n*** Generate:\")\n",
    "\n",
    "output = model.generate(inputs=tokens.input_ids.cuda(), attention_mask=tokens.attention_mask.cuda(),\n",
    "                        do_sample=False, max_new_tokens=512)\n",
    "used = time.time() - start\n",
    "tps = len(output[0]) / used\n",
    "print(tokenizer.decode(output[0]))\n",
    "print(f\"{used} seconds, {tps} tokens/s\")"
   ]
  },
  {
   "cell_type": "code",
   "execution_count": null,
   "id": "0cc0fc78-dc34-4e10-85db-68cf60d2cf49",
   "metadata": {},
   "outputs": [],
   "source": [
    "!nvidia-smi"
   ]
  },
  {
   "cell_type": "code",
   "execution_count": null,
   "id": "5772496e-92f3-47ad-b6f4-798699646eea",
   "metadata": {},
   "outputs": [],
   "source": []
  }
 ],
 "metadata": {
  "kernelspec": {
   "display_name": "finetuning",
   "language": "python",
   "name": "finetuning"
  },
  "language_info": {
   "codemirror_mode": {
    "name": "ipython",
    "version": 3
   },
   "file_extension": ".py",
   "mimetype": "text/x-python",
   "name": "python",
   "nbconvert_exporter": "python",
   "pygments_lexer": "ipython3",
   "version": "3.13.1"
  }
 },
 "nbformat": 4,
 "nbformat_minor": 5
}
