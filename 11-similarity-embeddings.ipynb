{
 "cells": [
  {
   "cell_type": "markdown",
   "id": "0",
   "metadata": {},
   "source": [
    "# Load data"
   ]
  },
  {
   "cell_type": "markdown",
   "id": "1",
   "metadata": {},
   "source": [
    "Sätze extrahiert aus der UN-Generaldebatte 2023"
   ]
  },
  {
   "cell_type": "code",
   "execution_count": null,
   "id": "2",
   "metadata": {},
   "outputs": [],
   "source": [
    "import os\n",
    "import urllib.request\n",
    "\n",
    "# File name and URL\n",
    "file_name = \"sentences.txt\"\n",
    "url = \"https://github.com/datanizing/m3-llm-workshop/raw/main/sentences.txt\"\n",
    "\n",
    "# Check if the file exists, if not, download it\n",
    "if not os.path.isfile(file_name):\n",
    "    print(f\"{file_name} does not exist. Downloading...\")\n",
    "    urllib.request.urlretrieve(url, file_name)\n",
    "    print(f\"Downloaded {file_name}.\")\n",
    "else:\n",
    "    print(f\"{file_name} already exists.\")"
   ]
  },
  {
   "cell_type": "code",
   "execution_count": null,
   "id": "3",
   "metadata": {},
   "outputs": [],
   "source": [
    "sentences = open(\"sentences.txt\", encoding=\"utf-8\").read().split(\"@@@\")"
   ]
  },
  {
   "cell_type": "code",
   "execution_count": null,
   "id": "4",
   "metadata": {},
   "outputs": [],
   "source": [
    "len(sentences)"
   ]
  },
  {
   "cell_type": "markdown",
   "id": "5",
   "metadata": {},
   "source": [
    "# Encode sentences"
   ]
  },
  {
   "cell_type": "markdown",
   "id": "0a5b9534-ed9a-4836-acd7-84ae23393f3b",
   "metadata": {},
   "source": [
    "Gutes Modell aus dem Leaderboard heraussuchen: Modell https://huggingface.co/spaces/mteb/leaderboard"
   ]
  },
  {
   "cell_type": "code",
   "execution_count": null,
   "id": "8",
   "metadata": {},
   "outputs": [],
   "source": [
    "from sentence_transformers import SentenceTransformer\n",
    "#model_name = \"jinaai/jina-embeddings-v3\"                 # am schnellsten\n",
    "#model_name = \"intfloat/multilingual-e5-large-instruct\"   # etwas langsamer\n",
    "model_name = \"Snowflake/snowflake-arctic-embed-l-v2.0\"    # ca. genau so schnell\n",
    "#model_name = \"infly/inf-retriever-v1-1.5b\"               # etwa 3x langsamer\n",
    "\n",
    "model = SentenceTransformer(model_name)"
   ]
  },
  {
   "cell_type": "code",
   "execution_count": null,
   "id": "9",
   "metadata": {},
   "outputs": [],
   "source": [
    "# kann ein bisschen dauern je nach CPU/GPU-Konfiguration\n",
    "sembeddings = model.encode(sentences, show_progress_bar=True)"
   ]
  },
  {
   "cell_type": "code",
   "execution_count": null,
   "id": "10",
   "metadata": {},
   "outputs": [],
   "source": [
    "import numpy as np\n",
    "with open(\"sentences-saev2.npy\", \"wb\") as f:\n",
    "    np.save(f, sembeddings)"
   ]
  },
  {
   "cell_type": "code",
   "execution_count": null,
   "id": "11",
   "metadata": {},
   "outputs": [],
   "source": [
    "sembeddings.shape"
   ]
  },
  {
   "cell_type": "code",
   "execution_count": null,
   "id": "12",
   "metadata": {},
   "outputs": [],
   "source": [
    "model2 = SentenceTransformer('all-mpnet-base-v2')"
   ]
  },
  {
   "cell_type": "code",
   "execution_count": null,
   "id": "13",
   "metadata": {},
   "outputs": [],
   "source": [
    "# etwas schneller\n",
    "sembeddings2 = model2.encode(sentences, show_progress_bar=True)"
   ]
  },
  {
   "cell_type": "code",
   "execution_count": null,
   "id": "14",
   "metadata": {},
   "outputs": [],
   "source": [
    "with open(\"sentences-mpnet.npy\", \"wb\") as f:\n",
    "    np.save(f, sembeddings2)"
   ]
  },
  {
   "cell_type": "code",
   "execution_count": null,
   "id": "ef223143-b88b-4559-b1fd-26ed72195814",
   "metadata": {},
   "outputs": [],
   "source": [
    "# neue superschnelle Alternative, new in 3.4, speedup 400x CPU to 25x GPU:\n",
    "model3 = SentenceTransformer(\"minishlab/potion-base-8M\", device=\"cpu\")"
   ]
  },
  {
   "cell_type": "code",
   "execution_count": null,
   "id": "b958f9a0-9fac-4b3c-8a2e-3ee9612b96d0",
   "metadata": {},
   "outputs": [],
   "source": [
    "# viel schneller\n",
    "sembeddings3 = model3.encode(sentences, show_progress_bar=True)"
   ]
  },
  {
   "cell_type": "code",
   "execution_count": null,
   "id": "b066104a-e3ca-468d-a7f6-5e2ede74a0fe",
   "metadata": {},
   "outputs": [],
   "source": [
    "with open(\"sentences-potion.npy\", \"wb\") as f:\n",
    "    np.save(f, sembeddings3)"
   ]
  },
  {
   "cell_type": "markdown",
   "id": "15",
   "metadata": {},
   "source": [
    "# Retrieval"
   ]
  },
  {
   "cell_type": "code",
   "execution_count": null,
   "id": "16",
   "metadata": {},
   "outputs": [],
   "source": [
    "def search(query, text, corpus_embeddings, model, prompt_name=\"query\", top=20):\n",
    "    # query codieren\n",
    "    query_embedding = model.encode(query, prompt_name=prompt_name)\n",
    "    \n",
    "    # Determine similarity (vectors are normalized)\n",
    "    sim =  model.similarity(query_embedding, corpus_embeddings)[0].numpy() \n",
    "    \n",
    "    # Get most similar top by sorting\n",
    "    hits = [ { \"text\": text[i], \"score\": sim[i] } \n",
    "                     for i in sim.argsort()[::-1][0:top] ]\n",
    "    \n",
    "    # Return as dataframe\n",
    "    return pd.DataFrame(hits)"
   ]
  },
  {
   "cell_type": "code",
   "execution_count": null,
   "id": "17",
   "metadata": {},
   "outputs": [],
   "source": [
    "import pandas as pd\n",
    "pd.set_option('display.max_colwidth', 0)"
   ]
  },
  {
   "cell_type": "code",
   "execution_count": null,
   "id": "18",
   "metadata": {},
   "outputs": [],
   "source": [
    "search(\"Is the climate crisis worse for poorer countries?\", \n",
    "       sentences, sembeddings, model)"
   ]
  },
  {
   "cell_type": "code",
   "execution_count": null,
   "id": "20",
   "metadata": {},
   "outputs": [],
   "source": [
    "search(\"Is the climate crisis worse for poorer countries?\", \n",
    "       sentences, sembeddings2, model2, prompt_name=None)"
   ]
  },
  {
   "cell_type": "code",
   "execution_count": null,
   "id": "8bd968e3-ea0c-4fd4-aff5-8310bf87f5d8",
   "metadata": {},
   "outputs": [],
   "source": [
    "search(\"Is the climate crisis worse for poorer countries?\", \n",
    "       sentences, sembeddings3, model3, prompt_name=None)"
   ]
  },
  {
   "cell_type": "code",
   "execution_count": null,
   "id": "19",
   "metadata": {},
   "outputs": [],
   "source": [
    "search(\"Is the war on Ukraine caused by Russia?\", \n",
    "       sentences, sembeddings, model)"
   ]
  },
  {
   "cell_type": "code",
   "execution_count": null,
   "id": "21",
   "metadata": {},
   "outputs": [],
   "source": [
    "search(\"Is the war on Ukraine caused by Russia?\", \n",
    "       sentences, sembeddings2, model2, prompt_name=None)"
   ]
  },
  {
   "cell_type": "code",
   "execution_count": null,
   "id": "22",
   "metadata": {},
   "outputs": [],
   "source": [
    "search(\"Is the war on Ukraine caused by Russia?\", \n",
    "       sentences, sembeddings3, model3, prompt_name=None)"
   ]
  },
  {
   "cell_type": "code",
   "execution_count": null,
   "id": "e037e78a-40bb-4ed2-b776-e048ad98e16e",
   "metadata": {},
   "outputs": [],
   "source": [
    "search(\"Sind arme Länder durch die Klimakrise stärker betroffen?\", \n",
    "       sentences, sembeddings, model)"
   ]
  },
  {
   "cell_type": "code",
   "execution_count": null,
   "id": "48872960-5e8c-4eae-a08d-050b94061dd7",
   "metadata": {},
   "outputs": [],
   "source": []
  }
 ],
 "metadata": {
  "kernelspec": {
   "display_name": "Python 3 (ipykernel)",
   "language": "python",
   "name": "python3"
  },
  "language_info": {
   "codemirror_mode": {
    "name": "ipython",
    "version": 3
   },
   "file_extension": ".py",
   "mimetype": "text/x-python",
   "name": "python",
   "nbconvert_exporter": "python",
   "pygments_lexer": "ipython3",
   "version": "3.12.3"
  }
 },
 "nbformat": 4,
 "nbformat_minor": 5
}
