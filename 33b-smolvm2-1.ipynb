{
 "cells": [
  {
   "cell_type": "code",
   "execution_count": null,
   "id": "402528d4-dc4f-4334-8682-dc908103486e",
   "metadata": {},
   "outputs": [],
   "source": [
    "import torch\n",
    "from transformers import AutoModelForCausalLM, AutoTokenizer"
   ]
  },
  {
   "cell_type": "code",
   "execution_count": null,
   "id": "4abb8ab8-4cfc-441e-a5ce-db8f9237e632",
   "metadata": {},
   "outputs": [],
   "source": [
    "model_name = 'HuggingFaceTB/SmolLM2-1.7B-Instruct'\n",
    "dataset_name = 'ai-abstract-dataset.jsonl.xz'\n",
    "output_dir = \"runs/\" + model_name.split(\"/\")[-1] + dataset_name.split(\".\")[0]"
   ]
  },
  {
   "cell_type": "code",
   "execution_count": null,
   "id": "cc876364-50f2-4708-b80c-23cb58a72006",
   "metadata": {},
   "outputs": [],
   "source": [
    "model = AutoModelForCausalLM.from_pretrained(model_name, \n",
    "                                             revision='main',\n",
    "                                             trust_remote_code=False,\n",
    "                                             attn_implementation='flash_attention_2',\n",
    "                                             torch_dtype=torch.bfloat16,\n",
    "                                             use_cache=False,\n",
    "                                             device_map=\"cuda\",\n",
    "                                             low_cpu_mem_usage=True)"
   ]
  },
  {
   "cell_type": "code",
   "execution_count": null,
   "id": "78cd128b-a4bb-4609-b01a-7e6cacf42b61",
   "metadata": {},
   "outputs": [],
   "source": [
    "from peft import PeftModel\n",
    "model = PeftModel.from_pretrained(model, output_dir)"
   ]
  },
  {
   "cell_type": "code",
   "execution_count": null,
   "id": "61c318f0-ae68-4fba-bdb3-ad8ab579e007",
   "metadata": {},
   "outputs": [],
   "source": [
    "model = model.merge_and_unload()"
   ]
  },
  {
   "cell_type": "code",
   "execution_count": null,
   "id": "89d7ee83-1abb-4fef-8716-26810b145f5b",
   "metadata": {},
   "outputs": [],
   "source": [
    "tokenizer = AutoTokenizer.from_pretrained(model_name)"
   ]
  },
  {
   "cell_type": "code",
   "execution_count": null,
   "id": "a9f2861f-60e6-4a6f-ad7f-e30afd1ce364",
   "metadata": {},
   "outputs": [],
   "source": [
    "# Restore k,v cache for fast inference\n",
    "model.config.use_cache = True\n",
    "model.save_pretrained(\"smol-ai\")\n",
    "tokenizer.save_pretrained(\"smol-ai\")"
   ]
  },
  {
   "cell_type": "code",
   "execution_count": null,
   "id": "24eab4c5-eb21-4d92-80db-b2647399a14b",
   "metadata": {},
   "outputs": [],
   "source": [
    "model.eval()"
   ]
  },
  {
   "cell_type": "code",
   "execution_count": null,
   "id": "e2eeb49f-d33b-41ec-ac7a-a6838bfc0205",
   "metadata": {},
   "outputs": [],
   "source": [
    "tokenizer.chat_template"
   ]
  },
  {
   "cell_type": "code",
   "execution_count": null,
   "id": "e774d910-7fa3-4d57-bf90-5bce1c85218a",
   "metadata": {},
   "outputs": [],
   "source": [
    "messages = [{ \"content\": \"\"\"You are an educated researcher and always answer in correct scientific terms.\n",
    "                             You are very deep into AI and its methodologies. You are very creative.\"\"\", \n",
    "              \"role\": \"system\" }, \n",
    "            { \"content\": \"Write an abstract with the title 'New Training Methods for LLMs'\", \n",
    "              \"role\": \"user\" },\n",
    "            ]"
   ]
  },
  {
   "cell_type": "code",
   "execution_count": null,
   "id": "d3a52ae0-1264-4191-be5d-eefaf097adf5",
   "metadata": {},
   "outputs": [],
   "source": [
    "inputs = tokenizer.apply_chat_template(messages, add_generation_prompt=True, return_tensors = \"pt\").to(\"cuda\")"
   ]
  },
  {
   "cell_type": "code",
   "execution_count": null,
   "id": "7e71c4ec-3d30-492b-a5c7-9056eefc5a1e",
   "metadata": {},
   "outputs": [],
   "source": [
    "print(tokenizer.batch_decode(inputs)[0])"
   ]
  },
  {
   "cell_type": "code",
   "execution_count": null,
   "id": "d302afca-5f20-4aa2-b5d5-ffd3cb8ad544",
   "metadata": {},
   "outputs": [],
   "source": [
    "outputs = model.generate(inputs, max_new_tokens = 512, use_cache = True,\n",
    "                         do_sample=True, temperature=0.7, top_k=25, top_p=0.8)"
   ]
  },
  {
   "cell_type": "code",
   "execution_count": null,
   "id": "44a0aca1-b181-4432-bddd-0ee22b766d01",
   "metadata": {},
   "outputs": [],
   "source": [
    "print(tokenizer.batch_decode(outputs)[0])"
   ]
  },
  {
   "cell_type": "code",
   "execution_count": null,
   "id": "5e65d6d8-254e-4c7e-a2f7-96acc6d7dfc1",
   "metadata": {},
   "outputs": [],
   "source": [
    "outputs = model.generate(inputs, max_new_tokens = 512, use_cache = True,\n",
    "                         do_sample=True, temperature=0.7, top_k=25, top_p=0.8)"
   ]
  },
  {
   "cell_type": "code",
   "execution_count": null,
   "id": "1c536042-2dd0-4546-b716-d11ade885e0a",
   "metadata": {},
   "outputs": [],
   "source": [
    "print(tokenizer.batch_decode(outputs)[0])"
   ]
  },
  {
   "cell_type": "code",
   "execution_count": null,
   "id": "f26b2ba5-5409-4cfe-a884-3b8681cc3fb9",
   "metadata": {},
   "outputs": [],
   "source": [
    "messages = [{ \"content\": \"\"\"You are an educated researcher and always answer in correct scientific terms.\n",
    "                             You are very deep into AI and its methodologies. You are very creative.\"\"\", \n",
    "              \"role\": \"system\" }, \n",
    "            { \"content\": \"Write an abstract with the title 'Frontiers in Increasing Random Forest Classification'\", \n",
    "              \"role\": \"user\" },\n",
    "            ]"
   ]
  },
  {
   "cell_type": "code",
   "execution_count": null,
   "id": "03dcf573-7a9e-4ba8-8cdb-3ab0159582c7",
   "metadata": {},
   "outputs": [],
   "source": []
  }
 ],
 "metadata": {
  "kernelspec": {
   "display_name": "Python 3 (ipykernel)",
   "language": "python",
   "name": "python3"
  },
  "language_info": {
   "codemirror_mode": {
    "name": "ipython",
    "version": 3
   },
   "file_extension": ".py",
   "mimetype": "text/x-python",
   "name": "python",
   "nbconvert_exporter": "python",
   "pygments_lexer": "ipython3",
   "version": "3.12.3"
  }
 },
 "nbformat": 4,
 "nbformat_minor": 5
}
